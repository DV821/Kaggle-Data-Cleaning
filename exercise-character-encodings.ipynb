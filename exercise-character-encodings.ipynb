{
 "cells": [
  {
   "cell_type": "markdown",
   "metadata": {
    "papermill": {
     "duration": 0.012094,
     "end_time": "2021-02-05T05:09:27.579089",
     "exception": false,
     "start_time": "2021-02-05T05:09:27.566995",
     "status": "completed"
    },
    "tags": []
   },
   "source": [
    "# Character Encodings"
   ]
  },
  {
   "cell_type": "markdown",
   "metadata": {
    "papermill": {
     "duration": 0.00964,
     "end_time": "2021-02-05T05:09:27.598463",
     "exception": false,
     "start_time": "2021-02-05T05:09:27.588823",
     "status": "completed"
    },
    "tags": []
   },
   "source": [
    "**This notebook is an exercise in the [Data Cleaning](https://www.kaggle.com/learn/data-cleaning) course.  You can reference the tutorial at [this link](https://www.kaggle.com/alexisbcook/character-encodings).**\n",
    "\n",
    "---\n"
   ]
  },
  {
   "cell_type": "markdown",
   "metadata": {
    "papermill": {
     "duration": 0.009476,
     "end_time": "2021-02-05T05:09:27.619563",
     "exception": false,
     "start_time": "2021-02-05T05:09:27.610087",
     "status": "completed"
    },
    "tags": []
   },
   "source": [
    "In this exercise, you'll apply what you learned in the **Character encodings** tutorial.\n",
    "\n",
    "# Setup\n",
    "\n",
    "The questions below will give you feedback on your work. Run the following cell to set up the feedback system."
   ]
  },
  {
   "cell_type": "code",
   "execution_count": 1,
   "metadata": {
    "execution": {
     "iopub.execute_input": "2021-02-05T05:09:27.646545Z",
     "iopub.status.busy": "2021-02-05T05:09:27.645868Z",
     "iopub.status.idle": "2021-02-05T05:09:27.764448Z",
     "shell.execute_reply": "2021-02-05T05:09:27.765238Z"
    },
    "papermill": {
     "duration": 0.135988,
     "end_time": "2021-02-05T05:09:27.765689",
     "exception": false,
     "start_time": "2021-02-05T05:09:27.629701",
     "status": "completed"
    },
    "tags": []
   },
   "outputs": [
    {
     "name": "stdout",
     "output_type": "stream",
     "text": [
      "Setup Complete\n"
     ]
    }
   ],
   "source": [
    "from learntools.core import binder\n",
    "binder.bind(globals())\n",
    "from learntools.data_cleaning.ex4 import *\n",
    "print(\"Setup Complete\")"
   ]
  },
  {
   "cell_type": "markdown",
   "metadata": {
    "papermill": {
     "duration": 0.014201,
     "end_time": "2021-02-05T05:09:27.796484",
     "exception": false,
     "start_time": "2021-02-05T05:09:27.782283",
     "status": "completed"
    },
    "tags": []
   },
   "source": [
    "# Get our environment set up\n",
    "\n",
    "The first thing we'll need to do is load in the libraries we'll be using."
   ]
  },
  {
   "cell_type": "code",
   "execution_count": 2,
   "metadata": {
    "execution": {
     "iopub.execute_input": "2021-02-05T05:09:27.825916Z",
     "iopub.status.busy": "2021-02-05T05:09:27.823267Z",
     "iopub.status.idle": "2021-02-05T05:09:27.831740Z",
     "shell.execute_reply": "2021-02-05T05:09:27.830816Z"
    },
    "papermill": {
     "duration": 0.022524,
     "end_time": "2021-02-05T05:09:27.831903",
     "exception": false,
     "start_time": "2021-02-05T05:09:27.809379",
     "status": "completed"
    },
    "tags": []
   },
   "outputs": [],
   "source": [
    "# modules we'll use\n",
    "import pandas as pd\n",
    "import numpy as np\n",
    "\n",
    "# helpful character encoding module\n",
    "import chardet\n",
    "\n",
    "# set seed for reproducibility\n",
    "np.random.seed(0)"
   ]
  },
  {
   "cell_type": "markdown",
   "metadata": {
    "papermill": {
     "duration": 0.011943,
     "end_time": "2021-02-05T05:09:27.856159",
     "exception": false,
     "start_time": "2021-02-05T05:09:27.844216",
     "status": "completed"
    },
    "tags": []
   },
   "source": [
    "# 1) What are encodings?\n",
    "\n",
    "You're working with a dataset composed of bytes.  Run the code cell below to print a sample entry."
   ]
  },
  {
   "cell_type": "code",
   "execution_count": 3,
   "metadata": {
    "execution": {
     "iopub.execute_input": "2021-02-05T05:09:27.886808Z",
     "iopub.status.busy": "2021-02-05T05:09:27.885925Z",
     "iopub.status.idle": "2021-02-05T05:09:27.889721Z",
     "shell.execute_reply": "2021-02-05T05:09:27.891135Z"
    },
    "papermill": {
     "duration": 0.023887,
     "end_time": "2021-02-05T05:09:27.891406",
     "exception": false,
     "start_time": "2021-02-05T05:09:27.867519",
     "status": "completed"
    },
    "tags": []
   },
   "outputs": [
    {
     "name": "stdout",
     "output_type": "stream",
     "text": [
      "b'\\xa7A\\xa6n'\n",
      "data type: <class 'bytes'>\n"
     ]
    }
   ],
   "source": [
    "sample_entry = b'\\xa7A\\xa6n'\n",
    "print(sample_entry)\n",
    "print('data type:', type(sample_entry))"
   ]
  },
  {
   "cell_type": "markdown",
   "metadata": {
    "papermill": {
     "duration": 0.010559,
     "end_time": "2021-02-05T05:09:27.914525",
     "exception": false,
     "start_time": "2021-02-05T05:09:27.903966",
     "status": "completed"
    },
    "tags": []
   },
   "source": [
    "You notice that it doesn't use the standard UTF-8 encoding. \n",
    "\n",
    "Use the next code cell to create a variable `new_entry` that changes the encoding from `\"big5-tw\"` to `\"utf-8\"`.  `new_entry` should have the bytes datatype."
   ]
  },
  {
   "cell_type": "code",
   "execution_count": 4,
   "metadata": {
    "execution": {
     "iopub.execute_input": "2021-02-05T05:09:27.949161Z",
     "iopub.status.busy": "2021-02-05T05:09:27.947980Z",
     "iopub.status.idle": "2021-02-05T05:09:27.953779Z",
     "shell.execute_reply": "2021-02-05T05:09:27.954380Z"
    },
    "papermill": {
     "duration": 0.027066,
     "end_time": "2021-02-05T05:09:27.954569",
     "exception": false,
     "start_time": "2021-02-05T05:09:27.927503",
     "status": "completed"
    },
    "tags": []
   },
   "outputs": [
    {
     "data": {
      "application/javascript": [
       "parent.postMessage({\"jupyterEvent\": \"custom.exercise_interaction\", \"data\": {\"outcomeType\": 1, \"valueTowardsCompletion\": 0.3333333333333333, \"interactionType\": 1, \"questionType\": 1, \"questionId\": \"1_EncodingsIntro\", \"learnToolsVersion\": \"0.3.4\", \"failureMessage\": \"\", \"exceptionClass\": \"\", \"trace\": \"\"}}, \"*\")"
      ],
      "text/plain": [
       "<IPython.core.display.Javascript object>"
      ]
     },
     "metadata": {},
     "output_type": "display_data"
    },
    {
     "data": {
      "text/markdown": [
       "<span style=\"color:#33cc33\">Correct</span>"
      ],
      "text/plain": [
       "Correct"
      ]
     },
     "metadata": {},
     "output_type": "display_data"
    }
   ],
   "source": [
    "new_entry = sample_entry.decode('big5-tw').encode()\n",
    "\n",
    "# Check your answer\n",
    "q1.check()"
   ]
  },
  {
   "cell_type": "code",
   "execution_count": 5,
   "metadata": {
    "execution": {
     "iopub.execute_input": "2021-02-05T05:09:27.987037Z",
     "iopub.status.busy": "2021-02-05T05:09:27.986323Z",
     "iopub.status.idle": "2021-02-05T05:09:27.989698Z",
     "shell.execute_reply": "2021-02-05T05:09:27.989150Z"
    },
    "papermill": {
     "duration": 0.023157,
     "end_time": "2021-02-05T05:09:27.989861",
     "exception": false,
     "start_time": "2021-02-05T05:09:27.966704",
     "status": "completed"
    },
    "tags": []
   },
   "outputs": [],
   "source": [
    "# Lines below will give you a hint or solution code\n",
    "# q1.hint()\n",
    "# q1.solution()"
   ]
  },
  {
   "cell_type": "markdown",
   "metadata": {
    "papermill": {
     "duration": 0.01224,
     "end_time": "2021-02-05T05:09:28.017484",
     "exception": false,
     "start_time": "2021-02-05T05:09:28.005244",
     "status": "completed"
    },
    "tags": []
   },
   "source": [
    "# 2) Reading in files with encoding problems\n",
    "\n",
    "Use the code cell below to read in this file at path `\"../input/fatal-police-shootings-in-the-us/PoliceKillingsUS.csv\"`.  \n",
    "\n",
    "Figure out what the correct encoding should be and read in the file to a DataFrame `police_killings`."
   ]
  },
  {
   "cell_type": "code",
   "execution_count": 6,
   "metadata": {
    "execution": {
     "iopub.execute_input": "2021-02-05T05:09:28.049726Z",
     "iopub.status.busy": "2021-02-05T05:09:28.048807Z",
     "iopub.status.idle": "2021-02-05T05:09:28.082828Z",
     "shell.execute_reply": "2021-02-05T05:09:28.082147Z"
    },
    "papermill": {
     "duration": 0.052052,
     "end_time": "2021-02-05T05:09:28.082986",
     "exception": false,
     "start_time": "2021-02-05T05:09:28.030934",
     "status": "completed"
    },
    "tags": []
   },
   "outputs": [
    {
     "data": {
      "application/javascript": [
       "parent.postMessage({\"jupyterEvent\": \"custom.exercise_interaction\", \"data\": {\"outcomeType\": 1, \"valueTowardsCompletion\": 0.3333333333333333, \"interactionType\": 1, \"questionType\": 1, \"questionId\": \"2_ReadIn\", \"learnToolsVersion\": \"0.3.4\", \"failureMessage\": \"\", \"exceptionClass\": \"\", \"trace\": \"\"}}, \"*\")"
      ],
      "text/plain": [
       "<IPython.core.display.Javascript object>"
      ]
     },
     "metadata": {},
     "output_type": "display_data"
    },
    {
     "data": {
      "text/markdown": [
       "<span style=\"color:#33cc33\">Correct</span>"
      ],
      "text/plain": [
       "Correct"
      ]
     },
     "metadata": {},
     "output_type": "display_data"
    }
   ],
   "source": [
    "# TODO: Load in the DataFrame correctly.\n",
    "police_killings = pd.read_csv('../input/fatal-police-shootings-in-the-us/PoliceKillingsUS.csv',encoding='Windows-1252')\n",
    "\n",
    "# Check your answer\n",
    "q2.check()"
   ]
  },
  {
   "cell_type": "markdown",
   "metadata": {
    "papermill": {
     "duration": 0.013066,
     "end_time": "2021-02-05T05:09:28.110483",
     "exception": false,
     "start_time": "2021-02-05T05:09:28.097417",
     "status": "completed"
    },
    "tags": []
   },
   "source": [
    "Feel free to use any additional code cells for supplemental work.  To get credit for finishing this question, you'll need to run `q2.check()` and get a result of **Correct**."
   ]
  },
  {
   "cell_type": "code",
   "execution_count": 7,
   "metadata": {
    "execution": {
     "iopub.execute_input": "2021-02-05T05:09:28.142196Z",
     "iopub.status.busy": "2021-02-05T05:09:28.141283Z",
     "iopub.status.idle": "2021-02-05T05:09:28.144323Z",
     "shell.execute_reply": "2021-02-05T05:09:28.143472Z"
    },
    "papermill": {
     "duration": 0.02111,
     "end_time": "2021-02-05T05:09:28.144479",
     "exception": false,
     "start_time": "2021-02-05T05:09:28.123369",
     "status": "completed"
    },
    "tags": []
   },
   "outputs": [],
   "source": [
    "# (Optional) Use this code cell for any additional work."
   ]
  },
  {
   "cell_type": "code",
   "execution_count": 8,
   "metadata": {
    "execution": {
     "iopub.execute_input": "2021-02-05T05:09:28.174491Z",
     "iopub.status.busy": "2021-02-05T05:09:28.173619Z",
     "iopub.status.idle": "2021-02-05T05:09:28.177994Z",
     "shell.execute_reply": "2021-02-05T05:09:28.176414Z"
    },
    "papermill": {
     "duration": 0.020955,
     "end_time": "2021-02-05T05:09:28.178180",
     "exception": false,
     "start_time": "2021-02-05T05:09:28.157225",
     "status": "completed"
    },
    "tags": []
   },
   "outputs": [],
   "source": [
    "# Lines below will give you a hint or solution code\n",
    "# q2.hint()\n",
    "# q2.solution()"
   ]
  },
  {
   "cell_type": "markdown",
   "metadata": {
    "papermill": {
     "duration": 0.013608,
     "end_time": "2021-02-05T05:09:28.205426",
     "exception": false,
     "start_time": "2021-02-05T05:09:28.191818",
     "status": "completed"
    },
    "tags": []
   },
   "source": [
    "# 3) Saving your files with UTF-8 encoding\n",
    "\n",
    "Save a version of the police killings dataset to CSV with UTF-8 encoding.  Your answer will be marked correct after saving this file.  \n",
    "\n",
    "Note: When using the `to_csv()` method, supply only the name of the file (e.g., `\"my_file.csv\"`).  This saves the file at the filepath `\"/kaggle/working/my_file.csv\"`."
   ]
  },
  {
   "cell_type": "code",
   "execution_count": 9,
   "metadata": {
    "execution": {
     "iopub.execute_input": "2021-02-05T05:09:28.243279Z",
     "iopub.status.busy": "2021-02-05T05:09:28.242564Z",
     "iopub.status.idle": "2021-02-05T05:09:28.282231Z",
     "shell.execute_reply": "2021-02-05T05:09:28.281672Z"
    },
    "papermill": {
     "duration": 0.060525,
     "end_time": "2021-02-05T05:09:28.282406",
     "exception": false,
     "start_time": "2021-02-05T05:09:28.221881",
     "status": "completed"
    },
    "tags": []
   },
   "outputs": [
    {
     "data": {
      "application/javascript": [
       "parent.postMessage({\"jupyterEvent\": \"custom.exercise_interaction\", \"data\": {\"outcomeType\": 1, \"valueTowardsCompletion\": 0.3333333333333333, \"interactionType\": 1, \"questionType\": 2, \"questionId\": \"3_SaveCSV\", \"learnToolsVersion\": \"0.3.4\", \"failureMessage\": \"\", \"exceptionClass\": \"\", \"trace\": \"\"}}, \"*\")"
      ],
      "text/plain": [
       "<IPython.core.display.Javascript object>"
      ]
     },
     "metadata": {},
     "output_type": "display_data"
    },
    {
     "data": {
      "text/markdown": [
       "<span style=\"color:#33cc33\">Correct</span>"
      ],
      "text/plain": [
       "Correct"
      ]
     },
     "metadata": {},
     "output_type": "display_data"
    }
   ],
   "source": [
    "# TODO: Save the police killings dataset to CSV\n",
    "police_killings.to_csv('my_file.csv')\n",
    "\n",
    "# Check your answer\n",
    "q3.check()"
   ]
  },
  {
   "cell_type": "code",
   "execution_count": 10,
   "metadata": {
    "execution": {
     "iopub.execute_input": "2021-02-05T05:09:28.316066Z",
     "iopub.status.busy": "2021-02-05T05:09:28.315413Z",
     "iopub.status.idle": "2021-02-05T05:09:28.317895Z",
     "shell.execute_reply": "2021-02-05T05:09:28.318363Z"
    },
    "papermill": {
     "duration": 0.021549,
     "end_time": "2021-02-05T05:09:28.318570",
     "exception": false,
     "start_time": "2021-02-05T05:09:28.297021",
     "status": "completed"
    },
    "tags": []
   },
   "outputs": [],
   "source": [
    "# Lines below will give you a hint or solution code\n",
    "#q3.hint()\n",
    "# q3.solution()"
   ]
  },
  {
   "cell_type": "markdown",
   "metadata": {
    "papermill": {
     "duration": 0.014646,
     "end_time": "2021-02-05T05:09:28.347423",
     "exception": false,
     "start_time": "2021-02-05T05:09:28.332777",
     "status": "completed"
    },
    "tags": []
   },
   "source": [
    "# (Optional) More practice\n",
    "\n",
    "Check out [this dataset of files in different character encodings](https://www.kaggle.com/rtatman/character-encoding-examples). Can you read in all the files with their original encodings and them save them out as UTF-8 files?\n",
    "\n",
    "If you have a file that's in UTF-8 but has just a couple of weird-looking characters in it, you can try out the [ftfy module](https://ftfy.readthedocs.io/en/latest/#) and see if it helps. \n",
    "\n",
    "# Keep going\n",
    "\n",
    "In the final lesson, learn how to [**clean up inconsistent text entries**](https://www.kaggle.com/alexisbcook/inconsistent-data-entry) in your dataset."
   ]
  },
  {
   "cell_type": "markdown",
   "metadata": {
    "papermill": {
     "duration": 0.01448,
     "end_time": "2021-02-05T05:09:28.375995",
     "exception": false,
     "start_time": "2021-02-05T05:09:28.361515",
     "status": "completed"
    },
    "tags": []
   },
   "source": [
    "---\n",
    "\n",
    "\n",
    "\n",
    "\n",
    "*Have questions or comments? Visit the [Learn Discussion forum](https://www.kaggle.com/learn-forum/172650) to chat with other Learners.*"
   ]
  }
 ],
 "metadata": {
  "kernelspec": {
   "display_name": "Python 3",
   "language": "python",
   "name": "python3"
  },
  "language_info": {
   "codemirror_mode": {
    "name": "ipython",
    "version": 3
   },
   "file_extension": ".py",
   "mimetype": "text/x-python",
   "name": "python",
   "nbconvert_exporter": "python",
   "pygments_lexer": "ipython3",
   "version": "3.7.9"
  },
  "papermill": {
   "default_parameters": {},
   "duration": 8.620755,
   "end_time": "2021-02-05T05:09:29.103655",
   "environment_variables": {},
   "exception": null,
   "input_path": "__notebook__.ipynb",
   "output_path": "__notebook__.ipynb",
   "parameters": {},
   "start_time": "2021-02-05T05:09:20.482900",
   "version": "2.2.2"
  }
 },
 "nbformat": 4,
 "nbformat_minor": 4
}
